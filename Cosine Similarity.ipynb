{
 "cells": [
  {
   "cell_type": "code",
   "execution_count": 67,
   "id": "a6c25dd7",
   "metadata": {},
   "outputs": [],
   "source": [
    "from sklearn.feature_extraction.text import TfidfVectorizer\n",
    "from sklearn.metrics.pairwise import cosine_similarity\n",
    "import numpy as np"
   ]
  },
  {
   "cell_type": "code",
   "execution_count": 19,
   "id": "9e75d631",
   "metadata": {},
   "outputs": [],
   "source": [
    "article = [\n",
    "    \"Artificial intelligence is transforming industries.\",\n",
    "    \"Machine learning is a subset of artificial intelligence.\",\n",
    "    \"Cosine similarity is used in text analysis.\",\n",
    "    \"Natural language processing is a branch of AI.\"\n",
    "]\n",
    "question = \"How AI can help me in my business?\""
   ]
  },
  {
   "cell_type": "code",
   "execution_count": 20,
   "id": "111b26b6",
   "metadata": {},
   "outputs": [],
   "source": [
    "vectorizer = TfidfVectorizer()\n",
    "vectors = vectorizer.fit_transform(article + [question])"
   ]
  },
  {
   "cell_type": "code",
   "execution_count": 21,
   "id": "33ce256c",
   "metadata": {},
   "outputs": [
    {
     "data": {
      "text/plain": [
       "<5x26 sparse matrix of type '<class 'numpy.float64'>'\n",
       "\twith 34 stored elements in Compressed Sparse Row format>"
      ]
     },
     "execution_count": 21,
     "metadata": {},
     "output_type": "execute_result"
    }
   ],
   "source": [
    "vectors"
   ]
  },
  {
   "cell_type": "code",
   "execution_count": 22,
   "id": "0da9aac0",
   "metadata": {},
   "outputs": [],
   "source": [
    "similarities = cosine_similarity(vectors[-1], vectors[:-1]).flatten()"
   ]
  },
  {
   "cell_type": "code",
   "execution_count": 23,
   "id": "2ca0f147",
   "metadata": {},
   "outputs": [
    {
     "data": {
      "text/plain": [
       "array([0.        , 0.        , 0.09860142, 0.10161799])"
      ]
     },
     "execution_count": 23,
     "metadata": {},
     "output_type": "execute_result"
    }
   ],
   "source": [
    "similarities"
   ]
  },
  {
   "cell_type": "code",
   "execution_count": 24,
   "id": "89b17ddc",
   "metadata": {},
   "outputs": [],
   "source": [
    "best_match_index = similarities.argmax()\n",
    "best_match_score = similarities[best_match_index]"
   ]
  },
  {
   "cell_type": "code",
   "execution_count": 25,
   "id": "6e44ccff",
   "metadata": {},
   "outputs": [
    {
     "data": {
      "text/plain": [
       "3"
      ]
     },
     "execution_count": 25,
     "metadata": {},
     "output_type": "execute_result"
    }
   ],
   "source": [
    "best_match_index"
   ]
  },
  {
   "cell_type": "code",
   "execution_count": 26,
   "id": "a97cfe79",
   "metadata": {},
   "outputs": [
    {
     "data": {
      "text/plain": [
       "0.10161798834216307"
      ]
     },
     "execution_count": 26,
     "metadata": {},
     "output_type": "execute_result"
    }
   ],
   "source": [
    "best_match_score"
   ]
  },
  {
   "cell_type": "code",
   "execution_count": 27,
   "id": "022bf44f",
   "metadata": {},
   "outputs": [
    {
     "data": {
      "text/plain": [
       "'Natural language processing is a branch of AI.'"
      ]
     },
     "execution_count": 27,
     "metadata": {},
     "output_type": "execute_result"
    }
   ],
   "source": [
    "article[best_match_index]"
   ]
  },
  {
   "cell_type": "markdown",
   "id": "049a2323",
   "metadata": {},
   "source": [
    "## Let's make it on WikiPedia Articles"
   ]
  },
  {
   "cell_type": "code",
   "execution_count": 28,
   "id": "76090e1e",
   "metadata": {},
   "outputs": [],
   "source": [
    "from wikipediaapi import Wikipedia\n",
    "wiki = Wikipedia('RAGBot/0.0', 'en')\n"
   ]
  },
  {
   "cell_type": "code",
   "execution_count": 29,
   "id": "72231a2f",
   "metadata": {},
   "outputs": [],
   "source": [
    "doc = wiki.page('Steve_Jobs').text\n",
    "paragraphs = doc.split('\\n\\n') # chunking"
   ]
  },
  {
   "cell_type": "code",
   "execution_count": 31,
   "id": "ddf7aa19",
   "metadata": {},
   "outputs": [
    {
     "data": {
      "text/plain": [
       "'Steven Paul Jobs (February 24, 1955 – October 5, 2011) was an American businessman, inventor, and investor best known for co-founding the technology company Apple Inc. Jobs was also the founder of NeXT and chairman and majority shareholder of Pixar. He was a pioneer of the personal computer revolution of the 1970s and 1980s, along with his early business partner and fellow Apple co-founder Steve Wozniak.\\nJobs was born in San Francisco in 1955 and adopted shortly afterwards. He attended Reed College in 1972 before withdrawing that same year. In 1974, he traveled through India, seeking enlightenment before later studying Zen Buddhism. He and Wozniak co-founded Apple in 1976 to further develop and sell Wozniak\\'s Apple I personal computer. Together, the duo gained fame and wealth a year later with production and sale of the Apple II, one of the first highly successful mass-produced microcomputers. \\nJobs saw the commercial potential of the Xerox Alto in 1979, which was mouse-driven and had a graphical user interface (GUI). This led to the development of the largely unsuccessful Apple Lisa in 1983, followed by the breakthrough Macintosh in 1984, the first mass-produced computer with a GUI. The Macintosh launched the desktop publishing industry in 1985 (for example, the Aldus Pagemaker) with the addition of the Apple LaserWriter, the first laser printer to feature vector graphics and PostScript.\\nIn 1985, Jobs departed Apple after a long power struggle with the company\\'s board and its then-CEO, John Sculley. That same year, Jobs took some Apple employees with him to found NeXT, a computer platform development company that specialized in computers for higher-education and business markets, serving as its CEO. In 1986, he helped develop the visual effects industry by funding the computer graphics division of Lucasfilm that eventually spun off independently as Pixar, which produced the first 3D computer-animated feature film Toy Story (1995) and became a leading animation studio, producing 28 films since.\\nIn 1997, Jobs returned to Apple as CEO after the company\\'s acquisition of NeXT. He was largely responsible for reviving Apple, which was on the verge of bankruptcy. He worked closely with British designer Jony Ive to develop a line of products and services that had larger cultural ramifications, beginning with the \"Think different\" advertising campaign, and leading to the iMac, iTunes, Mac OS X, Apple Store, iPod, iTunes Store, iPhone, App Store, and iPad. Jobs was also a board member at Gap Inc. from 1999 to 2002. In 2003, Jobs was diagnosed with a pancreatic neuroendocrine tumor. He died of tumor-related respiratory arrest in 2011; in 2022, he was posthumously awarded the Presidential Medal of Freedom. Since his death, he has won 141 patents; Jobs holds over 450 patents in total.'"
      ]
     },
     "execution_count": 31,
     "metadata": {},
     "output_type": "execute_result"
    }
   ],
   "source": [
    "paragraphs[0]"
   ]
  },
  {
   "cell_type": "code",
   "execution_count": 50,
   "id": "ea68f102",
   "metadata": {},
   "outputs": [],
   "source": [
    "question = \"When did he started Apple?\""
   ]
  },
  {
   "cell_type": "code",
   "execution_count": 51,
   "id": "423ecc73",
   "metadata": {},
   "outputs": [],
   "source": [
    "vectors = vectorizer.fit_transform(paragraphs + [question])"
   ]
  },
  {
   "cell_type": "code",
   "execution_count": 52,
   "id": "2962afcd",
   "metadata": {},
   "outputs": [
    {
     "data": {
      "text/plain": [
       "<48x2910 sparse matrix of type '<class 'numpy.float64'>'\n",
       "\twith 6921 stored elements in Compressed Sparse Row format>"
      ]
     },
     "execution_count": 52,
     "metadata": {},
     "output_type": "execute_result"
    }
   ],
   "source": [
    "vectors"
   ]
  },
  {
   "cell_type": "code",
   "execution_count": 53,
   "id": "9682e9b7",
   "metadata": {},
   "outputs": [],
   "source": [
    "similarities = cosine_similarity(vectors[-1], vectors[:-1]).flatten()"
   ]
  },
  {
   "cell_type": "code",
   "execution_count": 54,
   "id": "4b3084bf",
   "metadata": {},
   "outputs": [
    {
     "data": {
      "text/plain": [
       "array([0.09564955, 0.04831651, 0.1115483 , 0.07291738, 0.05772331,\n",
       "       0.10484042, 0.0330042 , 0.06915567, 0.07882996, 0.09755256,\n",
       "       0.11337847, 0.08085723, 0.06351638, 0.05950638, 0.03112634,\n",
       "       0.        , 0.04167541, 0.09231163, 0.11277567, 0.03701486,\n",
       "       0.0735121 , 0.05379384, 0.04781071, 0.08467159, 0.09714704,\n",
       "       0.05134866, 0.0657107 , 0.05722157, 0.06183552, 0.02192468,\n",
       "       0.01769734, 0.10190518, 0.0559636 , 0.00867931, 0.01256783,\n",
       "       0.00659831, 0.01326202, 0.06651871, 0.1199407 , 0.06923763,\n",
       "       0.14288621, 0.08361029, 0.00712314, 0.        , 0.0146752 ,\n",
       "       0.        , 0.00659565])"
      ]
     },
     "execution_count": 54,
     "metadata": {},
     "output_type": "execute_result"
    }
   ],
   "source": [
    "similarities"
   ]
  },
  {
   "cell_type": "code",
   "execution_count": 55,
   "id": "b0281caf",
   "metadata": {},
   "outputs": [],
   "source": [
    "best_match_index = similarities.argmax()\n",
    "best_match_score = similarities[best_match_index]"
   ]
  },
  {
   "cell_type": "code",
   "execution_count": 56,
   "id": "d32c4589",
   "metadata": {},
   "outputs": [
    {
     "data": {
      "text/plain": [
       "40"
      ]
     },
     "execution_count": 56,
     "metadata": {},
     "output_type": "execute_result"
    }
   ],
   "source": [
    "best_match_index"
   ]
  },
  {
   "cell_type": "code",
   "execution_count": 57,
   "id": "4f8a0d41",
   "metadata": {},
   "outputs": [
    {
     "data": {
      "text/plain": [
       "0.1428862110407237"
      ]
     },
     "execution_count": 57,
     "metadata": {},
     "output_type": "execute_result"
    }
   ],
   "source": [
    "best_match_score"
   ]
  },
  {
   "cell_type": "code",
   "execution_count": 58,
   "id": "ea968591",
   "metadata": {},
   "outputs": [
    {
     "data": {
      "text/plain": [
       "'I also bear the responsibility for being away from my daughter when she was four years old, as her mother divorced me when I went to Syria, but we got back in touch after 10 years. We lost touch again when her mother moved and I didn\\'t know where she was, but since 10 years ago we\\'ve been in constant contact, and I see her three times a year. I organized a trip for her last year to visit Syria and Lebanon and she went with a relative from Florida.\\nA few years later, Schieble married an ice-skating teacher, George Simpson. Mona Jandali took her stepfather\\'s last name, as Mona Simpson. In 1970, after divorcing her second husband, Schieble took Mona to Los Angeles and raised her alone.\\nWhen Simpson found that their father, Abdulfattah Jandali, was living in Sacramento, California, Jobs had no interest in meeting him as he believed Jandali did not treat his children well and according to the San Francisco Chronicle, this was because of finding a Seattle Times article about Jandali\\'s abandonment of his students on a trip to Egypt in 1974. Simpson went to Sacramento alone and met Jandali, who worked in a small restaurant. They spoke for several hours, and he told her that he had left teaching for the restaurant business. He said he and Schieble had given another child away for adoption but that \"we\\'ll never see that baby again. That baby\\'s gone.\" He said he once managed a Mediterranean restaurant near San Jose and that \"all of the successful technology people used to come there. Even Steve Jobs ... oh yeah, he used to come in, and he was a sweet guy and a big tipper\". At the request of Jobs, Simpson did not reveal to Jandali that his own story meant that he had actually already met his son.\\nAfter hearing about the visit, Jobs recalled that \"it was amazing ... I had been to that restaurant a few times, and I remember meeting the owner. He was Syrian. Balding. We shook hands.\" However, Jobs still did not want to meet Jandali because \"I was a wealthy man by then, and I didn\\'t trust him not to try to blackmail me or go to the press about it ... I asked Mona not to tell him about me\". Jandali later discovered his relationship to Jobs through an online blog. He then contacted Simpson and asked, \"what is this thing about Steve Jobs?\". Simpson told him that it was true and later commented, \"My father is thoughtful and a beautiful storyteller, but he is very, very passive ... He never contacted Steve\". Because Simpson herself researched her Syrian roots and began to meet the family, she assumed that Jobs would eventually want to meet their father, but he never did. Jobs also never showed an interest in his Syrian heritage or the Middle East. Simpson fictionalized the search for their father in her 1992 novel The Lost Father. Malek Jandali is their cousin.'"
      ]
     },
     "execution_count": 58,
     "metadata": {},
     "output_type": "execute_result"
    }
   ],
   "source": [
    "paragraphs[best_match_index]"
   ]
  },
  {
   "cell_type": "markdown",
   "id": "18b354db",
   "metadata": {},
   "source": [
    "## The method"
   ]
  },
  {
   "cell_type": "code",
   "execution_count": 59,
   "id": "f9caaf90",
   "metadata": {},
   "outputs": [],
   "source": [
    "def similarity_finder(question, doc, top_n=3):\n",
    "    \n",
    "    vectorizer = TfidfVectorizer()\n",
    "    vectors = vectorizer.fit_transform(doc + [question])\n",
    "    \n",
    "    similarities = cosine_similarity(vectors[-1], vectors[:-1]).flatten()\n",
    "    \n",
    "    top_n = min(top_n, len(article))\n",
    "    best_match_indices = np.argsort(similarities)[-top_n:][::-1]\n",
    "    \n",
    "    return [(doc[i], similarities[i]) for i in best_match_indices]"
   ]
  },
  {
   "cell_type": "markdown",
   "id": "53f24c9d",
   "metadata": {},
   "source": [
    "## Testing on Persian Wikipedia"
   ]
  },
  {
   "cell_type": "code",
   "execution_count": 81,
   "id": "8c743313",
   "metadata": {},
   "outputs": [],
   "source": [
    "wiki = Wikipedia(\"Misano/0.0\", \"fa\")"
   ]
  },
  {
   "cell_type": "code",
   "execution_count": 127,
   "id": "796fe9e4",
   "metadata": {},
   "outputs": [],
   "source": [
    "doc = wiki.page(\"استیو_جابز\").text"
   ]
  },
  {
   "cell_type": "code",
   "execution_count": 128,
   "id": "97c68e61",
   "metadata": {},
   "outputs": [],
   "source": [
    "doc = doc.split('\\n\\n')"
   ]
  },
  {
   "cell_type": "markdown",
   "id": "654a7f19",
   "metadata": {},
   "source": [
    "## Testing in RAG"
   ]
  },
  {
   "cell_type": "code",
   "execution_count": 85,
   "id": "f4669c1c",
   "metadata": {},
   "outputs": [],
   "source": [
    "from openai import OpenAI\n",
    "\n",
    "client = OpenAI(api_key=\"PinkOrca\", base_url=\"https://openai.jabirproject.org/v1\")"
   ]
  },
  {
   "cell_type": "code",
   "execution_count": 129,
   "id": "5d58c65a",
   "metadata": {},
   "outputs": [],
   "source": [
    "question = \"در چه سالی اولین آیفون را معرفی کرد؟\""
   ]
  },
  {
   "cell_type": "code",
   "execution_count": 130,
   "id": "243ece3a",
   "metadata": {},
   "outputs": [],
   "source": [
    "context = similarity_finder(question, doc, 10)\n",
    "\n",
    "context_doc = []\n",
    "\n",
    "for c in context:\n",
    "    context_doc.append(c[0])\n",
    "\n",
    "context_doc = '\\n'.join(context_doc)"
   ]
  },
  {
   "cell_type": "code",
   "execution_count": 131,
   "id": "3a1126af",
   "metadata": {},
   "outputs": [
    {
     "name": "stdout",
     "output_type": "stream",
     "text": [
      "افتخارات\n",
      "تایم در سال ۱۹۸۳ میلادی، جابز را به‌عنوان «مشهورترین استاد میکرو (الکترونیک)» معرفی کرده بود.\n",
      "در سال ۱۹۸۵ رئیس‌جمهور رونالد ریگان، مدال ملی فناوری و نوآوری را به استیو جابز و استیو وازنیک به‌خاطر معرفی و گسترش رایانه شخصی اهدا کرده بود. آنها در میان اولین افرادی بودند که موفق به کسب این افتخار شده‌اند. در سال ۲۰۰۷، جابز به‌وسیلهٔ مجله فورچون در یک لیست ۲۵نفره به‌عنوان قدرتمندترین فرد و بالاتر از افرادی چون بیل گیتس، روپرت مرداک و اریک اشمیت در تجارت معرفی شد و جیمز کالینز (مؤلف و سخنران در زمینه تجارت) او را «بتهوون تجارت» خواند. در دسامبر ۲۰۰۷، آرنولد شوارزنگر فرماندار وقت کالیفرنیا و بانوی اول ماریا شرایور، افتخار ورود به «تالار مشاهیر کالیفرنیا» که در موزهٔ تاریخ و زنان و هنر کالیفرنیا واقع است، را نصیب استیو جابز کردند.\n",
      "در اوت سال ۲۰۰۹ میلادی، در نظرسنجی جونیور اچیومنت، او به‌عنوان مورد‌تحسین‌ترین کارآفرین در میان نوجوانان انتخاب شد. در نوامبر ۲۰۰۹، به‌وسیلهٔ مجلهٔ فورچون به‌عنوان «مدیرعامل دهه» انتخاب شد. در سال ۲۰۱۰، در ردهٔ هفدهم قدرتمندترین افراد جهان از دیدگاه فوربز قرار گرفت. در دسامبر ۲۰۱۰، فایننشیال تایمز، جابز را به‌عنوان مرد سال ۲۰۱۰ معرفی کرد. هنگام استعفای استیو جابز و پس از مرگش، بارها با عنوان‌های آینده‌بین، پیشرو و نابغه معرفی شد. پس از استعفای استیو جابز از مدیرعاملی اپل، The New York Times، استیو جابز را به‌عنوان هنری فورد این دوره توصیف کرد. و او را با توماس ادیسون مقایسه کرد. در ۲۱ دسامبر ۲۰۱۱ در بوداپست، شرکت گرافی‌سافت، اولین مجسمهٔ برنزی استیو جابز را ارائه داد و او را یکی از بزرگ‌ترین شخصیت‌های عصر مدرن معرفی کرد.\n",
      "در یک نظرسنجی که در سال ۲۰۱۲ از ۱٬۰۰۰ نوجوان بین سنین ۱۶ تا ۲۵ سال انجام شد تا بزرگ‌ترین نوآور کل تاریخ شناخته شود، استیو جابز با کسب ۲۴ درصد آراء، رتبهٔ دوم را پس از توماس ادیسون کسب کرد.\n",
      "در مارس ۲۰۱۲، فورچون، جابز را بزرگ‌ترین کارآفرین این دوران نامید و او را آینده‌بین، الهام‌بخش و بااستعداد توصیف کرد.\n",
      "والتر ایزاکسون دربارهٔ جابز می‌گوید: «او یک کارآفرین خلاق بوده و در شش صنعت مختلف انقلاب ایجاد کرده و آن‌ها را به کمال رسانیده‌است: رایانه‌های شخصی، فیلم‌های انیمیشن، موسیقی، تلفن، تبلت و انتشارات دیجیتال»\n",
      "آی‌فون\n",
      "استیو جابز در مک‌ورلد ژانویهٔ ۲۰۰۷ آی‌فون را معرفی کرد. جابز گفت: «امروز ما قصد داریم سه نوع محصول انقلابی از این دسته را معرفی کنیم.\n",
      "زندگی حرفه‌ای\n",
      "پایه‌گذاری شرکت رایانه‌ای اپل\n",
      "در سال ۱۹۷۶، وقتی جابز ۲۱ ساله و وازنیک ۲۵ ساله بود، شرکت رایانه‌ای اپل را در پارکینگ خانوادهٔ جابز، بنیان گذاشتند. اولین رایانهٔ شخصی‌ای که جابز و وازنیک به بازار معرفی کردند اپل I نام داشت. قیمت این رایانه که در سال ۱۹۷۶ معرفی شد، ۶۶۶ دلار و ۶۶ سنت بود. در سال ۱۹۷۷، جابز و وازنیک رایانهٔ اپل II را معرفی کردند. در سال ۱۹۸۰، اپل فروش اولیه سهام خود را در بازار بورس ارائه کرد و به سهامی عام تبدیل شد. هنگامی که اپل عمومی شد، سرمایهٔ بیشتری از هر عرضهٔ اولیه سهام، از زمان شرکت خودروسازی فورد در سال ۱۹۵۶ جذب کرد و بلافاصله تعداد افراد بیشتری (حدود ۳۰۰ نفر) از هر شرکت دیگری در تاریخ را میلیونر کرد. در همان سال، شرکت اپل، رایانهٔ اپل III را معرفی کرد که این رایانه به دلیل قیمت زیاد و برخی مشکلات سخت‌افزاری با شکست تجاری در بازار مواجه شد. هم‌زمان با رشد اپل، این شرکت جستجویی را برای یافتن مدیران مستعد که بتوانند آن را در مدیریت توسعه و گسترش، کمک کنند، آغاز کرد. در سال ۱۹۸۳، جابز با به چالش‌طلبیدن جان اسکالی که یکی از مدیران پپسی کولا بود، او را تطمیع کرد که به‌عنوان مدیر عامل اپل کار کند. جابز به او گفته بود: «می‌خواهی که باقی زندگی‌ات را به فروختن آب-شکر بگذرانی، یا می‌خواهی شانس این را داشته باشی که دنیا را عوض کنی؟» در همان سال شرکت اپل، رایانهٔ اپل لیزا را معرفی کرد که با وجود مجهز بودن به واسط گرافیکی کاربر و موشواره از بابت تجاری ناموفق از آب درآمد. یکی از دلایل این عدم موفقیت قیمت گران و کندی آن بود. سال ۱۹۸۴، سال معرفی رایانهٔ مکینتاش بود. این رایانه دارای پردازشگر موتورولا۶۸٬۰۰۰ با فرکانس کلاک ۷٫۸ مگاهرتز و مجهز به موشواره بود. پس از گذشت حدود دو ماه از معرفی مکینتاش، تنها ۵۰٬۰۰۰ عدد از آن فروخته‌شد که نمایش قدرتمندانه‌ای نبود. حافظه مکینتاش کم بود (۱۲۸ کیلوبایت) و وجود یک فلاپی کار را با آن سخت می‌کرد. مکینتاش همانند لیزا به واسط گرافیکی کاربر مجهز بود ولی بعضی از ویژگی‌های قدرتمند لیزا مانند مالتی تسکینگ و حافظه ۱ مگابایت را نداشت.\n",
      "مایک اسکات (اولین مدیرعامل اپل بین سال‌های ۱۹۷۷ تا ۱۹۸۱) در مورد جابز می‌گوید: «او همیشه بداخلاق و دمدمی‌مزاج بود. رفتارش در آتاری باعث شد تا او را به شیفت شب منتقل کنند، اما چنین چیزی در اپل امکان نداشت.» مایک مارکولا (نخستین سرمایه‌دار بزرگ، سهام‌دار ارشد و دومین مدیرعامل اپل) نیز در مورد جابز می‌گوید: «او به ویژه نسبت به برنامه‌نویسان جوان خشن بود. مسئلهٔ بهداشتی‌اش نیز مطرح بود. همچنان مخالف تمام شواهد بود و اعتقاد داشت که با توجه به رژیم‌های غذایی گیاهی‌اش نیازی به دئودورانت یا دوش مرتب ندارد. باید مودبانه او را پشت در می‌گذاشتیم و به او می‌گفتیم که برود دوش بگیرد. ما مجبور بودیم در جلسات به پاهای کثیفش نگاه کنیم. او کارهایی می‌کرد که برای همکارانش آزاردهنده و چندش‌آور بود.» در حالی که جابز یکی از شخصیت‌های پیش‌برنده و رهبران معنوی اپل بود، منتقدان این مسئله را نیز مطرح کرده‌اند که او مدیری دمدمی مزاج و شلوغ بوده‌است. در سال ۱۹۸۵ بین جابز و اسکالی کشمکش به‌وجود آمد. جابز به اسکالی گفت: «تو برای اپل و هدایت آن مناسب نیستی.» اسکالی هم از مدیران خواست که بین او و جابز یکی را انتخاب کنند. آن‌ها به اتفاق آرا اسکالی را انتخاب کردند. پس جابز از کارش در اپل برکنار شد. جابز در همان سال شرکت نکست را تأسیس کرد.\n",
      "استیون پال جابز (به انگلیسی: Steven Paul Jobs) (زادهٔ ۲۴ فوریهٔ ۱۹۵۵ – درگذشتهٔ ۵ اکتبر ۲۰۱۱) کارآفرین، مخترع، بنیان‌گذار و مدیر ارشد اجرایی شرکت رایانه‌ای اپل و یکی از چهره‌های پیشرو در صنعت رایانه بود.\n",
      "در سال ۱۹۷۶، جابز ۲۱ ساله به همراه دوستش استیو وازنیک ۲۶ ساله، شرکت اپل را تأسیس کردند. اولین رایانه شخصی‌ای که شرکت اپل به بازار معرفی کرد، اپل I نام داشت. یک سال پس از آن در سال ۱۹۷۷ اپل II نیز راهی بازار شد. در سال ۱۹۸۵ طی یک اختلاف مدیریتی، جابز اپل را ترک و در همان سال شرکت نکست را تأسیس کرد. از مهم‌ترین محصولات شرکت نکست می‌توان به نکست کامپیوتر اشاره کرد که بعدها میزبان اولین مرورگر وب شد. در سال ۱۹۹۶ شرکت اپل، شرکت نکست را به مبلغ ۴۲۹ میلیون دلار خرید. طی این معامله استیو جابز، مجدداً به اپل بازگشت. از اتفاقات مهم پس از این مسئله در اپل می‌توان به معرفی آی‌پاد در سال ۲۰۰۱، پرده‌برداری از آی‌تیونزاستور در سال ۲۰۰۳ و معرفی آی‌فون و آی‌پد به ترتیب در سال‌های ۲۰۰۷ و ۲۰۱۰ اشاره کرد.\n",
      "جابز در سال ۱۹۸۶ یک گروه گرافیکی را از بخش گرافیک کامپیوتر لوکاس فیلم خرید. پس از خرید این بخش، شرکت پیکسار متولد شد که نام آن از ترکیب پیکسِر و رادار الهام گرفته شده بود. پیکسار توانست فیلم‌های پویانمایی موفقی بسازد. در سال ۲۰۰۶ شرکت والت دیزنی، پیکسار را خرید. پس از این معامله جابز به سهام‌دار اصلی والت دیزنی تبدیل شد و به عضویت هیئت مدیرهٔ آن درآمد. در اکتبر ۲۰۰۳ سرطان لوزالمعده جابز تشخیص داده شد و در اوت ۲۰۱۱، او از سمت مدیرعاملی اپل استعفا داد. تیم کوک، از مدیران ارشد اپل، مدیرعامل شد و جابز به‌عنوان رئیس هیئت مدیره به فعالیت‌هایش ادامه داد.\n",
      "استیو جابز در نهایت بر اثر عوارض ناشی از سرطان لوزالمعده، در تاریخ چهارشنبه ۵ اکتبر ۲۰۱۱ در سن ۵۶ سالگی درگذشت.\n",
      "استیو جابز به خاطر چیزی مشهور بود که کارکنان اپل آن را ویژگیِ تحریف واقعیت می‌نامیدند. والتر آیزاکسون در کتاب استیو جابز توصیف می‌کند، استیو چطور تیم اپل را قانع می‌کرد که می‌توانند درست به موقع پروژه ای را تحویل بدهند؛ پروژه ای که همه فکر می‌کردند تحویل به موقعش ناممکن است. آن ها بارها و بارها موفق به انجام این کار شدند. تیم استیو گفتند که او واقعیت شان را از بدبینی یا به گفته ی بعضی ها واقع گرایی، به نوعی خوشبینی تحریف می‌کرد. باور او همه گیر بود و در نتیجه، اپل به یکی اط بزرگ ترین شرکت های زمین تبدیل شد.\n"
     ]
    }
   ],
   "source": [
    "print(context_doc)"
   ]
  },
  {
   "cell_type": "code",
   "execution_count": 132,
   "id": "136150e4",
   "metadata": {},
   "outputs": [],
   "source": [
    "user_message = f'''Here we have provided a context and a question. Your task is to ONLY look at the context and provide answer to the asked question based on that the context provided.\n",
    "If you can't find an answer in the context, basically say you couldn't find anything and DO NOT try to make the answer up.\n",
    "\n",
    "CONTEXT = {context_doc}\\n\n",
    "QUESTION = {question}\n",
    "'''"
   ]
  },
  {
   "cell_type": "code",
   "execution_count": 133,
   "id": "96b6e9d4",
   "metadata": {},
   "outputs": [],
   "source": [
    "completion = client.chat.completions.create(\n",
    "    model = \"jabir-400b\",\n",
    "    messages = [\n",
    "        {\n",
    "            \"role\" : \"user\",\n",
    "            \"content\" : user_message\n",
    "        }\n",
    "    ],\n",
    "    temperature = 0\n",
    ")"
   ]
  },
  {
   "cell_type": "code",
   "execution_count": 134,
   "id": "86943ced",
   "metadata": {},
   "outputs": [],
   "source": [
    "answer = completion.choices[0].message.content"
   ]
  },
  {
   "cell_type": "code",
   "execution_count": 135,
   "id": "6f041e1d",
   "metadata": {},
   "outputs": [
    {
     "name": "stdout",
     "output_type": "stream",
     "text": [
      "اولین آی‌فون در ژانویهٔ ۲۰۰۷ معرفی شد.\n"
     ]
    }
   ],
   "source": [
    "print(answer)"
   ]
  }
 ],
 "metadata": {
  "kernelspec": {
   "display_name": "Python 3 (ipykernel)",
   "language": "python",
   "name": "python3"
  },
  "language_info": {
   "codemirror_mode": {
    "name": "ipython",
    "version": 3
   },
   "file_extension": ".py",
   "mimetype": "text/x-python",
   "name": "python",
   "nbconvert_exporter": "python",
   "pygments_lexer": "ipython3",
   "version": "3.11.1"
  }
 },
 "nbformat": 4,
 "nbformat_minor": 5
}
